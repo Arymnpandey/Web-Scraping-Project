{
 "cells": [
  {
   "cell_type": "code",
   "execution_count": null,
   "id": "e645cfda-f8a6-4bab-a701-49275635ca35",
   "metadata": {},
   "outputs": [],
   "source": [
    "from selenium import webdriver\n",
    "from selenium.webdriver.chrome.service import Service\n",
    "from selenium.webdriver.common.by import By\n",
    "from selenium.webdriver.support.ui import WebDriverWait\n",
    "from selenium.webdriver.support import expected_conditions as EC\n",
    "import time\n",
    "from bs4 import BeautifulSoup\n",
    "import re\n",
    "import csv\n",
    "import os"
   ]
  },
  {
   "cell_type": "code",
   "execution_count": 219,
   "id": "b6314803-e00b-4fb1-808b-19a038fee8ac",
   "metadata": {
    "scrolled": true
   },
   "outputs": [],
   "source": [
    "website='https://aws.amazon.com/ec2/autoscaling/faqs/'\n",
    "service=Service(r'C:\\Users\\aryam\\Downloads\\chromedriver-win64\\chromedriver.exe')\n",
    "\n",
    "driver=webdriver.Chrome(service=service)\n",
    "driver.get(website)\n",
    "\n",
    "\n",
    "wait=WebDriverWait(driver,10)\n",
    "\n",
    "dialogue_button=wait.until(EC.presence_of_element_located((By.XPATH,\"//button[@aria-label='Close']\")))\n",
    "\n",
    "time.sleep(1)\n",
    "\n",
    "dialogue_button.click()\n",
    "\n",
    "soup = BeautifulSoup(driver.page_source, \"html.parser\")\n",
    "page_topics=[]\n",
    "container = soup.find(\"div\", class_=\"eb-sidebar-content\")\n",
    "topics=container.find_all(\"span\")\n",
    "\n",
    "for topic in topics:\n",
    "    name_with_counter = topic.find(\"a\").text.strip()\n",
    "    name=re.sub(r'\\d+', '', name_with_counter )\n",
    "    counter = topic.find(\"div\", class_=\"eb-sidebar-link-counter\").text.strip()\n",
    "    page_topics.append(f\"{name}: {counter}\")\n",
    "    \n",
    "page_topics = {item.split(': ')[0]: int(item.split(': ')[1]) for item in page_topics}"
   ]
  },
  {
   "cell_type": "code",
   "execution_count": 220,
   "id": "ca2aa5d0-da14-458f-ae50-f8ade65366f4",
   "metadata": {},
   "outputs": [],
   "source": [
    "openall_buttons=driver.find_elements(By.XPATH,\"//*[contains(@class, 'section-expander-header-toggle-button')]\")\n",
    "\n",
    "for button in openall_buttons:\n",
    "    driver.execute_script(\"arguments[0].click();\",button)\n",
    "    time.sleep(2)"
   ]
  },
  {
   "cell_type": "code",
   "execution_count": 221,
   "id": "a19f9159-61db-47a2-b866-18350bf29cff",
   "metadata": {},
   "outputs": [],
   "source": [
    "faqs = driver.find_elements(By.XPATH, \"//*[contains(@id, 'product-faqs#ec2-auto-scaling-faq#')]\")\n",
    "\n",
    "data=[]\n",
    "for i in faqs:\n",
    "    data.append(i.text)"
   ]
  },
  {
   "cell_type": "code",
   "execution_count": 223,
   "id": "603cad11-4a7b-4e2c-a0d4-f99cd9a3e7fd",
   "metadata": {},
   "outputs": [],
   "source": [
    "file_name=r'C:\\Users\\aryam\\Desktop\\project\\faqs.txt'\n",
    "with open(file_name,\"w\",newline='') as file:\n",
    "        for i in range(0,9,2):\n",
    "            file.write(f\"###{data[i]}###\\n\\n\\n\")        "
   ]
  },
  {
   "cell_type": "code",
   "execution_count": 224,
   "id": "446e76e5-273c-437e-bb43-41fab37f2a07",
   "metadata": {},
   "outputs": [],
   "source": [
    "input_file = r'C:\\Users\\aryam\\Desktop\\project\\faqs.txt'\n",
    "output_folder = r'C:\\Users\\aryam\\Desktop\\project\\\\'\n",
    "with open(input_file, 'r') as file:\n",
    "    content = file.read()\n",
    "blocks = [block.strip() for block in content.split('###') if block.strip()]\n"
   ]
  },
  {
   "cell_type": "code",
   "execution_count": 225,
   "id": "eed781ff-716c-4ade-a6b4-1ad9a5786e11",
   "metadata": {},
   "outputs": [],
   "source": [
    "for index, (topic, block) in enumerate(zip(page_topics.keys(), blocks), start=1):\n",
    "    output_file = f\"{output_folder}{topic}.txt\"\n",
    "    \n",
    "    with open(output_file, 'w') as file:\n",
    "        file.write(block)"
   ]
  },
  {
   "cell_type": "code",
   "execution_count": 226,
   "id": "34bbe696-53bb-4c84-b581-30a314d92207",
   "metadata": {},
   "outputs": [],
   "source": [
    "driver.quit()"
   ]
  }
 ],
 "metadata": {
  "kernelspec": {
   "display_name": "Python [conda env:base] *",
   "language": "python",
   "name": "conda-base-py"
  },
  "language_info": {
   "codemirror_mode": {
    "name": "ipython",
    "version": 3
   },
   "file_extension": ".py",
   "mimetype": "text/x-python",
   "name": "python",
   "nbconvert_exporter": "python",
   "pygments_lexer": "ipython3",
   "version": "3.12.7"
  }
 },
 "nbformat": 4,
 "nbformat_minor": 5
}
